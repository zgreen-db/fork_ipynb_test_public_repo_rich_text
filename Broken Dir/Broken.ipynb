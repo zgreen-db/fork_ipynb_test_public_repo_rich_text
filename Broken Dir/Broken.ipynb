{
 "cells": [
  {
   "cell_type": "code",
   "execution_count": 0,
   "metadata": {
    "application/vnd.databricks.v1+cell": {
     "cellMetadata": {},
     "inputWidgets": {},
     "nuid": "f451eca8-7915-4cc5-b0b8-637b8eccd491",
     "showTitle": false,
     "title": ""
    }
   },
   "outputs": [],
   "source": [
    "%python\n",
    "println(\"hello\")"
   ]
  }
 ],
 "metadata": {
  "application/vnd.databricks.v1+notebook": {
   "dashboards": [],
   "language": "sql",
   "notebookMetadata": {
    "pythonIndentUnit": 2
   },
   "notebookName": "Broken",
   "widgets": {}
  }
 },
 "nbformat": 4,
 "nbformat_minor": 0

